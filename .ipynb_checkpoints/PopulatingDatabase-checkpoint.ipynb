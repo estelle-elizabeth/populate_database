{
 "cells": [
  {
   "cell_type": "code",
   "execution_count": null,
   "metadata": {},
   "outputs": [],
   "source": [
    "#Author: Estelle Ocran\n",
    "#Date: 19 Sept 2019"
   ]
  },
  {
   "cell_type": "code",
   "execution_count": 1,
   "metadata": {},
   "outputs": [],
   "source": [
    "import sqlite3\n",
    "\n",
    "con = sqlite3.connect('cats.db') #create database"
   ]
  },
  {
   "cell_type": "code",
   "execution_count": 46,
   "metadata": {},
   "outputs": [],
   "source": [
    "import json\n",
    "import urllib.request as requester\n",
    "\n",
    "#accessing api\n",
    "with requester.urlopen(\"https://cat-fact.herokuapp.com/facts\") as url:\n",
    "    data = json.loads(url.read().decode())\n"
   ]
  },
  {
   "cell_type": "code",
   "execution_count": 45,
   "metadata": {},
   "outputs": [],
   "source": [
    "cats = data['all'] #accessing data dictionary"
   ]
  },
  {
   "cell_type": "code",
   "execution_count": 30,
   "metadata": {},
   "outputs": [],
   "source": [
    "#create relation/table\n",
    "sql = \"create table if not exists catsData (cat_id varchar(30), text varchar(500), type varchar(30), user_id varchar(30), user_first_name varchar(30), user_last_name varchar(30), upvotes int, userUpvoted varchar(4))\"\n",
    "\n",
    "con.execute(sql)\n",
    "con.commit() #save relation"
   ]
  },
  {
   "cell_type": "code",
   "execution_count": 43,
   "metadata": {},
   "outputs": [],
   "source": [
    "#insert values into database\n",
    "query = \"\"\"insert or ignore into catsData(cat_id, text, type, user_id, user_first_name, user_last_name, upvotes, userUpvoted) values (?, ?, ?, ?, ?, ?, ?, ?) \"\"\"\n",
    "\n",
    "for entry in cats:\n",
    "    cat_id = str(entry['_id'])\n",
    "    text = str(entry['text'])\n",
    "    catType = str(entry['type'])\n",
    "    if 'user' in entry:\n",
    "        user_id = str(entry['user']['_id'])\n",
    "        user_first_name = str(entry['user']['name']['first'])\n",
    "        user_last_name = str(entry['user']['name']['last'])\n",
    "    upvotes = int(entry['upvotes'])\n",
    "    userUpvoted = str(entry['userUpvoted'])\n",
    "    \n",
    "    queryValues = (cat_id, text, catType, user_id, user_first_name, user_last_name, upvotes, userUpvoted)\n",
    "    con.execute(query, queryValues)\n",
    "    \n",
    "con.commit()"
   ]
  },
  {
   "cell_type": "code",
   "execution_count": null,
   "metadata": {},
   "outputs": [],
   "source": []
  }
 ],
 "metadata": {
  "kernelspec": {
   "display_name": "Python 3",
   "language": "python",
   "name": "python3"
  },
  "language_info": {
   "codemirror_mode": {
    "name": "ipython",
    "version": 3
   },
   "file_extension": ".py",
   "mimetype": "text/x-python",
   "name": "python",
   "nbconvert_exporter": "python",
   "pygments_lexer": "ipython3",
   "version": "3.6.5"
  }
 },
 "nbformat": 4,
 "nbformat_minor": 2
}
